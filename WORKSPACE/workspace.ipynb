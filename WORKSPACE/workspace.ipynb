{
 "cells": [
  {
   "cell_type": "code",
   "execution_count": 1,
   "id": "3bdb0ff8",
   "metadata": {},
   "outputs": [
    {
     "name": "stdout",
     "output_type": "stream",
     "text": [
      "Hello ISTSW\n"
     ]
    }
   ],
   "source": [
    "print(\"Hello ISTSW\")"
   ]
  },
  {
   "cell_type": "code",
   "execution_count": null,
   "id": "e9612294",
   "metadata": {},
   "outputs": [
    {
     "name": "stdout",
     "output_type": "stream",
     "text": [
      "num2 value\n",
      "num1 value\n"
     ]
    }
   ],
   "source": [
    "num1=20\n",
    "num2=48\n",
    "print(\"num1 value\")\n",
    "print(\"num1 value\")\n"
   ]
  }
 ],
 "metadata": {
  "kernelspec": {
   "display_name": ".venv (3.13.9)",
   "language": "python",
   "name": "python3"
  },
  "language_info": {
   "codemirror_mode": {
    "name": "ipython",
    "version": 3
   },
   "file_extension": ".py",
   "mimetype": "text/x-python",
   "name": "python",
   "nbconvert_exporter": "python",
   "pygments_lexer": "ipython3",
   "version": "3.13.9"
  }
 },
 "nbformat": 4,
 "nbformat_minor": 5
}
